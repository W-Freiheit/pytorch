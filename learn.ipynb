{
 "cells": [
  {
   "cell_type": "code",
   "execution_count": 2,
   "metadata": {},
   "outputs": [],
   "source": [
    "from __future__ import print_function\n",
    "import torch"
   ]
  },
  {
   "cell_type": "code",
   "execution_count": 3,
   "metadata": {},
   "outputs": [
    {
     "name": "stdout",
     "output_type": "stream",
     "text": [
      "tensor([[1.0194e-38, 9.0919e-39, 8.4490e-39],\n",
      "        [1.0653e-38, 9.9184e-39, 8.4490e-39],\n",
      "        [8.9082e-39, 8.9082e-39, 8.7245e-39],\n",
      "        [1.0653e-38, 9.9184e-39, 8.4490e-39],\n",
      "        [9.2755e-39, 9.0919e-39, 4.2246e-39]])\n"
     ]
    }
   ],
   "source": [
    "#创建一个没有初始化的5*3的矩阵\n",
    "x = torch.empty(5,3)\n",
    "print(x)"
   ]
  },
  {
   "cell_type": "code",
   "execution_count": 4,
   "metadata": {},
   "outputs": [
    {
     "name": "stdout",
     "output_type": "stream",
     "text": [
      "tensor([[0.1166, 0.6203, 0.4609],\n",
      "        [0.5085, 0.3294, 0.4124],\n",
      "        [0.9474, 0.8438, 0.4967],\n",
      "        [0.0128, 0.4174, 0.6389],\n",
      "        [0.7048, 0.5635, 0.7776]])\n"
     ]
    }
   ],
   "source": [
    "#创建一个随机初始化矩阵\n",
    "x = torch.rand(5,3)\n",
    "print(x)"
   ]
  },
  {
   "cell_type": "code",
   "execution_count": 10,
   "metadata": {},
   "outputs": [
    {
     "name": "stdout",
     "output_type": "stream",
     "text": [
      "tensor([[0, 0, 0],\n",
      "        [0, 0, 0],\n",
      "        [0, 0, 0],\n",
      "        [0, 0, 0],\n",
      "        [0, 0, 0]])\n"
     ]
    }
   ],
   "source": [
    "#构建一个填满0且数据类型为long的矩阵\n",
    "x = torch.zeros(5,3,dtype = torch.long)\n",
    "print(x)"
   ]
  },
  {
   "cell_type": "code",
   "execution_count": 11,
   "metadata": {},
   "outputs": [
    {
     "name": "stdout",
     "output_type": "stream",
     "text": [
      "tensor([5.5000, 3.0000])\n"
     ]
    }
   ],
   "source": [
    "#直接从数据构造张量\n",
    "x = torch.tensor([5.5,3])\n",
    "print(x)"
   ]
  },
  {
   "cell_type": "code",
   "execution_count": 12,
   "metadata": {},
   "outputs": [
    {
     "name": "stdout",
     "output_type": "stream",
     "text": [
      "tensor([[1., 1., 1.],\n",
      "        [1., 1., 1.],\n",
      "        [1., 1., 1.],\n",
      "        [1., 1., 1.],\n",
      "        [1., 1., 1.]], dtype=torch.float64)\n"
     ]
    }
   ],
   "source": [
    "#或者根据已有的tensor建立新的tensor。除非用户提供新的值，否则这些方法重用输出张量的属性\n",
    "x = x.new_ones(5,3,dtype=torch.double)\n",
    "print(x)"
   ]
  },
  {
   "cell_type": "code",
   "execution_count": 13,
   "metadata": {},
   "outputs": [
    {
     "name": "stdout",
     "output_type": "stream",
     "text": [
      "tensor([[-0.0129, -0.1135,  0.5958],\n",
      "        [ 1.0837,  0.5546, -1.2106],\n",
      "        [-1.6410, -0.0768, -0.5514],\n",
      "        [ 0.9579, -0.7540,  2.2380],\n",
      "        [-0.3332, -0.2957,  0.1051]])\n"
     ]
    }
   ],
   "source": [
    "#重载dtye\n",
    "x = torch.randn_like(x,dtype = torch.float)\n",
    "print(x)"
   ]
  },
  {
   "cell_type": "code",
   "execution_count": 14,
   "metadata": {},
   "outputs": [
    {
     "name": "stdout",
     "output_type": "stream",
     "text": [
      "torch.Size([5, 3])\n"
     ]
    }
   ],
   "source": [
    "#获取张量的形状\n",
    "print(x.size())"
   ]
  },
  {
   "cell_type": "code",
   "execution_count": 17,
   "metadata": {},
   "outputs": [
    {
     "name": "stdout",
     "output_type": "stream",
     "text": [
      "tensor([[ 0.6601,  0.1857,  1.0605],\n",
      "        [ 1.6179,  0.5553, -0.2195],\n",
      "        [-0.8634,  0.5245, -0.2882],\n",
      "        [ 1.6096, -0.6755,  3.0255],\n",
      "        [ 0.3553,  0.5138,  0.3309]])\n",
      "tensor([[6.7304e-01, 2.9926e-01, 4.6473e-01],\n",
      "        [5.3422e-01, 7.2008e-04, 9.9110e-01],\n",
      "        [7.7766e-01, 6.0121e-01, 2.6326e-01],\n",
      "        [6.5168e-01, 7.8432e-02, 7.8753e-01],\n",
      "        [6.8847e-01, 8.0944e-01, 2.2580e-01]])\n"
     ]
    }
   ],
   "source": [
    "#运算\n",
    "#加法——形式1\n",
    "y = torch.rand(5,3)\n",
    "print(x+y)\n",
    "print(y)"
   ]
  },
  {
   "cell_type": "code",
   "execution_count": 18,
   "metadata": {
    "scrolled": true
   },
   "outputs": [
    {
     "name": "stdout",
     "output_type": "stream",
     "text": [
      "tensor([[ 0.6601,  0.1857,  1.0605],\n",
      "        [ 1.6179,  0.5553, -0.2195],\n",
      "        [-0.8634,  0.5245, -0.2882],\n",
      "        [ 1.6096, -0.6755,  3.0255],\n",
      "        [ 0.3553,  0.5138,  0.3309]])\n"
     ]
    }
   ],
   "source": [
    "#加法——形式2\n",
    "print(torch.add(x,y))"
   ]
  },
  {
   "cell_type": "code",
   "execution_count": 19,
   "metadata": {},
   "outputs": [
    {
     "name": "stdout",
     "output_type": "stream",
     "text": [
      "tensor([[ 0.6601,  0.1857,  1.0605],\n",
      "        [ 1.6179,  0.5553, -0.2195],\n",
      "        [-0.8634,  0.5245, -0.2882],\n",
      "        [ 1.6096, -0.6755,  3.0255],\n",
      "        [ 0.3553,  0.5138,  0.3309]])\n"
     ]
    }
   ],
   "source": [
    "#加法——形式3,给定一个输出参量组作为参数\n",
    "result = torch.empty(5,3)\n",
    "torch.add(x,y,out = result)\n",
    "print(result)"
   ]
  },
  {
   "cell_type": "code",
   "execution_count": 20,
   "metadata": {},
   "outputs": [
    {
     "name": "stdout",
     "output_type": "stream",
     "text": [
      "tensor([[ 0.6601,  0.1857,  1.0605],\n",
      "        [ 1.6179,  0.5553, -0.2195],\n",
      "        [-0.8634,  0.5245, -0.2882],\n",
      "        [ 1.6096, -0.6755,  3.0255],\n",
      "        [ 0.3553,  0.5138,  0.3309]])\n"
     ]
    }
   ],
   "source": [
    "#加法——原地/原位操作\n",
    "y.add_(x)\n",
    "print(y)"
   ]
  },
  {
   "cell_type": "code",
   "execution_count": 21,
   "metadata": {},
   "outputs": [
    {
     "name": "stdout",
     "output_type": "stream",
     "text": [
      "tensor([-0.1135,  0.5546, -0.0768, -0.7540, -0.2957])\n"
     ]
    }
   ],
   "source": [
    "#注意：任何一个in-place改变张量的操作后面都固定一个_。\n",
    "#也可以像NumPy一样的各种索引操作\n",
    "print(x[:,1]);\n",
    "#这里是输出了x的第二列"
   ]
  },
  {
   "cell_type": "code",
   "execution_count": 22,
   "metadata": {},
   "outputs": [
    {
     "name": "stdout",
     "output_type": "stream",
     "text": [
      "torch.Size([4, 4]) torch.Size([16]) torch.Size([2, 8])\n"
     ]
    }
   ],
   "source": [
    "#改变形状：如果想改变形状，可以使用torch.view\n",
    "x = torch.randn(4,4)\n",
    "y = x.view(16)\n",
    "z = x.view(-1,8)\n",
    "print(x.size(),y.size(),z.size())"
   ]
  },
  {
   "cell_type": "code",
   "execution_count": 23,
   "metadata": {},
   "outputs": [
    {
     "name": "stdout",
     "output_type": "stream",
     "text": [
      "tensor([-0.2461])\n",
      "-0.24609006941318512\n"
     ]
    }
   ],
   "source": [
    "#如果仅是包含一个元素的tensor，可以使用.item()来得到对应的python数值\n",
    "x = torch.randn(1)\n",
    "print(x)\n",
    "print(x.item())"
   ]
  },
  {
   "cell_type": "code",
   "execution_count": null,
   "metadata": {},
   "outputs": [],
   "source": [
    "#当然，tensor还有成百中运算操作，包括转置，索引，切片，数学运算，线性代数，随机数等\n",
    "#链接："
   ]
  },
  {
   "cell_type": "code",
   "execution_count": null,
   "metadata": {},
   "outputs": [],
   "source": [
    "#桥接;Numpy\n",
    "#将一个Torch张量转换为一个Numpy数组是轻而易举的事情，反之亦然\n",
    "#Torch张量和Numpy数组将共享它们的底层内存位置，因此当一个改变时，另外一个也会改变"
   ]
  },
  {
   "cell_type": "code",
   "execution_count": 24,
   "metadata": {},
   "outputs": [
    {
     "name": "stdout",
     "output_type": "stream",
     "text": [
      "tensor([1., 1., 1., 1., 1.])\n"
     ]
    }
   ],
   "source": [
    "#将torch的Tensor转化为Numpy数组\n",
    "a = torch.ones(5)\n",
    "print(a)"
   ]
  },
  {
   "cell_type": "code",
   "execution_count": 25,
   "metadata": {},
   "outputs": [
    {
     "name": "stdout",
     "output_type": "stream",
     "text": [
      "[1. 1. 1. 1. 1.]\n"
     ]
    }
   ],
   "source": [
    "b = a.numpy()\n",
    "print(b)"
   ]
  },
  {
   "cell_type": "code",
   "execution_count": 26,
   "metadata": {},
   "outputs": [
    {
     "name": "stdout",
     "output_type": "stream",
     "text": [
      "tensor([2., 2., 2., 2., 2.])\n",
      "[2. 2. 2. 2. 2.]\n"
     ]
    }
   ],
   "source": [
    "#来看看Numpy是如何改变里面的值的\n",
    "a.add_(1)\n",
    "print(a)\n",
    "print(b)"
   ]
  },
  {
   "cell_type": "code",
   "execution_count": 27,
   "metadata": {},
   "outputs": [
    {
     "name": "stdout",
     "output_type": "stream",
     "text": [
      "[2. 2. 2. 2. 2.]\n",
      "tensor([2., 2., 2., 2., 2.], dtype=torch.float64)\n"
     ]
    }
   ],
   "source": [
    "#将Numpy数组转化为Torch张量\n",
    "\n",
    "#看改变Numpy数组是如何自动改变Torch张量的\n",
    "\n",
    "import numpy as np\n",
    "a = np.ones(5)\n",
    "b = torch.from_numpy(a)\n",
    "np.add(a,1,out = a)\n",
    "print(a)\n",
    "print(b)"
   ]
  },
  {
   "cell_type": "code",
   "execution_count": 28,
   "metadata": {},
   "outputs": [],
   "source": [
    "#CPU上的所有张量（Char Tensor除外）都支持与Numpy的相互转换\n",
    "#CUDA上的张量\n",
    "#张量可以使用.to方法移动到任何设备（device）上：\n",
    "#如果有GPU 的同学可以去试试"
   ]
  },
  {
   "cell_type": "code",
   "execution_count": null,
   "metadata": {},
   "outputs": [],
   "source": []
  }
 ],
 "metadata": {
  "kernelspec": {
   "display_name": "Python 3",
   "language": "python",
   "name": "python3"
  },
  "language_info": {
   "codemirror_mode": {
    "name": "ipython",
    "version": 3
   },
   "file_extension": ".py",
   "mimetype": "text/x-python",
   "name": "python",
   "nbconvert_exporter": "python",
   "pygments_lexer": "ipython3",
   "version": "3.8.2"
  }
 },
 "nbformat": 4,
 "nbformat_minor": 4
}
